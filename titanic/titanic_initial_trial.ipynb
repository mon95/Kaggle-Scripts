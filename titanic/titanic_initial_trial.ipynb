{
 "cells": [
  {
   "cell_type": "code",
   "execution_count": 70,
   "metadata": {
    "collapsed": false
   },
   "outputs": [],
   "source": [
    "import csv # not needed as pandas is being used\n",
    "import numpy as np\n",
    "import pandas as pd\n",
    "import pylab as P # for the graphs/histograms\n",
    "\n",
    "titanic_dataframe = pd.read_csv('train.csv', header=0) # header = 0 since initial row is a header\n",
    "test = pd.read_csv('test.csv',header=0)\n"
   ]
  },
  {
   "cell_type": "code",
   "execution_count": 22,
   "metadata": {
    "collapsed": true
   },
   "outputs": [],
   "source": [
    "# ---------------- Playing with the dataframe --------\n",
    "\n",
    "# print titanic_dataframe\n",
    "# print titanic_dataframe.head(5)\n",
    "\n",
    "# Checking data types\n",
    "# print titanic_dataframe.dtypes # Pandas infers numerical types\n",
    "\n",
    "# Check how many non-null entries\n",
    "# print titanic_dataframe.info()\n",
    "\n",
    "# Check means, deviations and quartiles\n",
    "# print titanic_dataframe.describe()\n",
    "\n",
    "# print titanic_dataframe[titanic_dataframe['Age']<10]\n",
    "\n",
    "# Check rows where age is null (i.e., missing data)\n",
    "# print titanic_dataframe[titanic_dataframe['Age'].isnull()]\n",
    "\n",
    "# for i in range(1,4):\n",
    "#     print i, len(titanic_dataframe[(titanic_dataframe['Sex']=='male') & (titanic_dataframe['Pclass'] == i)])\n",
    "\n",
    "# titanic_dataframe['Pclass'].hist(bins=3, range=(0,4), alpha=0.5)\n",
    "# P.show()\n",
    "\n",
    "# titanic_dataframe['Age'].hist()\n",
    "# P.show()\n",
    "# ---------------- -----------------------------------"
   ]
  },
  {
   "cell_type": "code",
   "execution_count": 71,
   "metadata": {
    "collapsed": false
   },
   "outputs": [
    {
     "name": "stdout",
     "output_type": "stream",
     "text": [
      "0    1\n",
      "1    0\n",
      "2    0\n",
      "3    0\n",
      "4    1\n",
      "Name: gender, dtype: int64\n",
      "0    1\n",
      "1    2\n",
      "2    1\n",
      "3    1\n",
      "4    1\n",
      "Name: boardedAt, dtype: float64\n",
      "<class 'pandas.core.frame.DataFrame'>\n",
      "Int64Index: 891 entries, 0 to 890\n",
      "Data columns (total 14 columns):\n",
      "PassengerId    891 non-null int64\n",
      "Survived       891 non-null int64\n",
      "Pclass         891 non-null int64\n",
      "Name           891 non-null object\n",
      "Sex            891 non-null object\n",
      "Age            714 non-null float64\n",
      "SibSp          891 non-null int64\n",
      "Parch          891 non-null int64\n",
      "Ticket         891 non-null object\n",
      "Fare           891 non-null float64\n",
      "Cabin          204 non-null object\n",
      "Embarked       889 non-null object\n",
      "gender         891 non-null int64\n",
      "boardedAt      889 non-null float64\n",
      "dtypes: float64(3), int64(6), object(5)\n",
      "memory usage: 104.4+ KB\n",
      "None\n",
      "<class 'pandas.core.frame.DataFrame'>\n",
      "Int64Index: 418 entries, 0 to 417\n",
      "Data columns (total 13 columns):\n",
      "PassengerId    418 non-null int64\n",
      "Pclass         418 non-null int64\n",
      "Name           418 non-null object\n",
      "Sex            418 non-null object\n",
      "Age            332 non-null float64\n",
      "SibSp          418 non-null int64\n",
      "Parch          418 non-null int64\n",
      "Ticket         418 non-null object\n",
      "Fare           417 non-null float64\n",
      "Cabin          91 non-null object\n",
      "Embarked       418 non-null object\n",
      "gender         418 non-null int64\n",
      "boardedAt      418 non-null float64\n",
      "dtypes: float64(3), int64(5), object(5)\n",
      "memory usage: 45.7+ KB\n",
      "None\n"
     ]
    }
   ],
   "source": [
    "# Insert a new column into dataframe\n",
    "# titanic_dataframe['gender'] = 10\n",
    "\n",
    "# Use lambda fns to do the same\n",
    "# Map text to binary vals\n",
    "\n",
    "# Mapping sex to binary values (in a new column gender)\n",
    "titanic_dataframe['gender'] = titanic_dataframe[\"Sex\"].map( {\"male\":1, \"female\":0} ).astype(int)\n",
    "print titanic_dataframe['gender'].head()\n",
    "\n",
    "test['gender'] = test['Sex'].map( {'male':1, 'female':0} ).astype(int)\n",
    "\n",
    "# Mapping embarked to float values\n",
    "titanic_dataframe['boardedAt'] = titanic_dataframe['Embarked'].map( {'S': 1 , 'C':2, 'Q': 3} )\n",
    "print titanic_dataframe['boardedAt'].head()\n",
    "test['boardedAt'] = test['Embarked'].map( {'S':1, 'C':2, 'Q':3} ).astype(float)\n",
    "\n",
    "print titanic_dataframe.info()\n",
    "print test.info()"
   ]
  },
  {
   "cell_type": "code",
   "execution_count": 72,
   "metadata": {
    "collapsed": false
   },
   "outputs": [
    {
     "name": "stdout",
     "output_type": "stream",
     "text": [
      "[[ 35.   28.   21.5]\n",
      " [ 40.   30.   25. ]]\n",
      "    gender  Pclass  Age  filledAge\n",
      "5        1       3  NaN       25.0\n",
      "17       1       2  NaN       30.0\n",
      "19       0       3  NaN       21.5\n",
      "26       1       3  NaN       25.0\n",
      "28       0       3  NaN       21.5\n",
      "    gender  Pclass  Age  filledAge\n",
      "10       1       3  NaN       25.0\n",
      "22       0       1  NaN       35.0\n",
      "29       1       3  NaN       25.0\n",
      "33       0       3  NaN       21.5\n",
      "36       0       3  NaN       21.5\n"
     ]
    }
   ],
   "source": [
    "# Handle missing ages\n",
    "median_ages = np.zeros((2,3))\n",
    "\n",
    "for i in range(0,2):\n",
    "    for j in range(0,3):\n",
    "        median_ages[i,j]= titanic_dataframe[(titanic_dataframe['gender']==i) & \\\n",
    "                                            (titanic_dataframe['Pclass']==j+1)]['Age'].dropna().median()\n",
    "print median_ages\n",
    "\n",
    "# fill missing values\n",
    "titanic_dataframe['filledAge'] = titanic_dataframe['Age']\n",
    "test['filledAge'] = test['Age']\n",
    "\n",
    "for i in range(0,2):\n",
    "    for j in range(0,3):\n",
    "        titanic_dataframe.loc[ (titanic_dataframe.Age.isnull()) \\\n",
    "                             & (titanic_dataframe.gender == i) \\\n",
    "                             & (titanic_dataframe.Pclass == j+1), \\\n",
    "                             'filledAge'] = median_ages[i,j]\n",
    "        test.loc[ (test.Age.isnull()) & (test.gender == i) & (test.Pclass==j+1), 'filledAge' ] = median_ages[i,j]\n",
    "\n",
    "# Check if missing ages are filled\n",
    "print titanic_dataframe[ titanic_dataframe['Age'].isnull() ][ ['gender', 'Pclass', 'Age', 'filledAge'] ].head()\n",
    "print test[test['Age'].isnull()][['gender','Pclass', 'Age', 'filledAge']].head()"
   ]
  },
  {
   "cell_type": "code",
   "execution_count": 74,
   "metadata": {
    "collapsed": false
   },
   "outputs": [
    {
     "name": "stdout",
     "output_type": "stream",
     "text": [
      "    ageXclass  Age  Pclass\n",
      "0        66.0   22       3\n",
      "1        38.0   38       1\n",
      "2        78.0   26       3\n",
      "3        35.0   35       1\n",
      "4       105.0   35       3\n",
      "5        75.0  NaN       3\n",
      "6        54.0   54       1\n",
      "7         6.0    2       3\n",
      "8        81.0   27       3\n",
      "9        28.0   14       2\n",
      "10       12.0    4       3\n",
      "11       58.0   58       1\n",
      "12       60.0   20       3\n",
      "13      117.0   39       3\n",
      "14       42.0   14       3\n",
      "15      110.0   55       2\n",
      "16        6.0    2       3\n",
      "17       60.0  NaN       2\n",
      "18       93.0   31       3\n",
      "19       64.5  NaN       3\n",
      "    ageXclass   Age  Pclass\n",
      "0       103.5  34.5       3\n",
      "1       141.0  47.0       3\n",
      "2       124.0  62.0       2\n",
      "3        81.0  27.0       3\n",
      "4        66.0  22.0       3\n",
      "5        42.0  14.0       3\n",
      "6        90.0  30.0       3\n",
      "7        52.0  26.0       2\n",
      "8        54.0  18.0       3\n",
      "9        63.0  21.0       3\n",
      "10       75.0   NaN       3\n",
      "11       46.0  46.0       1\n",
      "12       23.0  23.0       1\n",
      "13      126.0  63.0       2\n",
      "14       47.0  47.0       1\n",
      "15       48.0  24.0       2\n",
      "16       70.0  35.0       2\n",
      "17       63.0  21.0       3\n",
      "18       81.0  27.0       3\n",
      "19      135.0  45.0       3\n"
     ]
    }
   ],
   "source": [
    "# Feature Engineering \n",
    "\n",
    "titanic_dataframe['famSize'] = titanic_dataframe['SibSp'] + titanic_dataframe['Parch']\n",
    "test['famSize'] = test['SibSp']+test['Parch']\n",
    "# print titanic_dataframe.famSize.head(20)\n",
    "titanic_dataframe['famSize'].hist()\n",
    "P.show()\n",
    "\n",
    "# Create additional useful features\n",
    "\n",
    "# Old => less likely to survive. 3rd class also implies the same\n",
    "titanic_dataframe['ageXclass'] = titanic_dataframe.filledAge * \\\n",
    "                                    titanic_dataframe.Pclass\n",
    "test['ageXclass'] = test.filledAge * test.Pclass\n",
    "\n",
    "print titanic_dataframe[['ageXclass', 'Age', 'Pclass']].head(20)\n",
    "print test[['ageXclass', 'Age', 'Pclass']].head(20)\n",
    "titanic_dataframe['ageXclass'].hist()\n",
    "P.show()"
   ]
  },
  {
   "cell_type": "code",
   "execution_count": 112,
   "metadata": {
    "collapsed": false
   },
   "outputs": [
    {
     "name": "stdout",
     "output_type": "stream",
     "text": [
      "(889, 9)\n",
      "(889,)\n",
      "(418, 9)\n"
     ]
    }
   ],
   "source": [
    "# print titanic_dataframe.dtypes[ titanic_dataframe.dtypes.map(lambda x:x=='object') ]\n",
    "# print titanic_dataframe.info()\n",
    "\n",
    "try:\n",
    "    \n",
    "    titanic_dataframe = titanic_dataframe.drop(['Name','Sex','Ticket', 'Cabin', 'Embarked', 'Age'], axis=1) \n",
    "    dataset = titanic_dataframe.values\n",
    "\n",
    "    test = test.drop(['Name','Sex','Ticket', 'Cabin', 'Embarked', 'Age'], axis=1) \n",
    "    testdata = test.values\n",
    "except:\n",
    "    pass\n",
    "\n",
    "titanic_dataframe = titanic_dataframe.dropna()\n",
    "\n",
    "xTrain = titanic_dataframe.drop(['PassengerId','Survived'],axis=1)\n",
    "xTrain = xTrain._get_numeric_data()\n",
    "print xTrain.shape\n",
    "\n",
    "yTrain = titanic_dataframe.Survived\n",
    "print yTrain.shape\n",
    "\n",
    "xTest = test.drop(['PassengerId'],axis=1)\n",
    "xTest = xTest._get_numeric_data()\n",
    "print xTest.shape\n",
    "\n",
    "# print test.info()\n",
    "# print titanic_dataframe.info()\n",
    "\n",
    "# print testdata\n",
    "# dataset[0::,1] # Starting at 0th row, every 1st column element (i.e., survived column)\n",
    "# dataset[0::,2::] # The training data"
   ]
  },
  {
   "cell_type": "code",
   "execution_count": 132,
   "metadata": {
    "collapsed": false
   },
   "outputs": [
    {
     "name": "stdout",
     "output_type": "stream",
     "text": [
      "[ 0.06239682  0.03552987  0.020758    0.24153086  0.20405867  0.03397621\n",
      "  0.15266165  0.0518867   0.19720122]\n"
     ]
    }
   ],
   "source": [
    "# Using the scikit learn package to perform the final classification\n",
    "from sklearn.ensemble import RandomForestClassifier\n",
    "\n",
    "# There's a missing value for fare in the test data set\n",
    "xTest[\"Fare\"].fillna(xTest['Fare'].median(), inplace=True)\n",
    "\n",
    "forest1 = RandomForestClassifier(n_estimators = 200, criterion=\"entropy\", )\n",
    "forest1 = forest1.fit(xTrain[:],yTrain[:])\n",
    "pred_forest1 = forest1.predict(xTest)\n",
    "# print forest1.predict(xTest[150:170])\n",
    "# print pred_forest1\n",
    "# print len(pred_forest1)\n",
    "print forest1.feature_importances_"
   ]
  },
  {
   "cell_type": "code",
   "execution_count": 133,
   "metadata": {
    "collapsed": true
   },
   "outputs": [],
   "source": [
    "# Making the final submission\n",
    "\n",
    "# Create a new data frame as required for the final submission\n",
    "submission = pd.DataFrame( {\n",
    "        \"PassengerId\": test.PassengerId,\n",
    "        \"Survived\": pred_forest1\n",
    "    })\n",
    "\n",
    "# Convert data frame to csv\n",
    "submission.to_csv('titanic_preds_2.csv', index=False)\n"
   ]
  }
 ],
 "metadata": {
  "kernelspec": {
   "display_name": "Python 2",
   "language": "python",
   "name": "python2"
  },
  "language_info": {
   "codemirror_mode": {
    "name": "ipython",
    "version": 2
   },
   "file_extension": ".py",
   "mimetype": "text/x-python",
   "name": "python",
   "nbconvert_exporter": "python",
   "pygments_lexer": "ipython2",
   "version": "2.7.11"
  }
 },
 "nbformat": 4,
 "nbformat_minor": 0
}
